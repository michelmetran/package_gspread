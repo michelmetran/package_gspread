{
 "cells": [
  {
   "cell_type": "markdown",
   "metadata": {},
   "source": [
    "---\n",
    "layout: post\n",
    "title: GSpread\n",
    "subtitle: Exercícios e Referências\n",
    "tags: [python, pycharm, jupyter, package, gspread]\n",
    "image: /img/posts/icon_gspread.png\n",
    "bigimg: /img/posts/big_gspread.png\n",
    "gh-repo: michelmetran/package_gspread\n",
    "gh-badge: [follow, star, watch, fork]\n",
    "comments: true\n",
    "\n",
    "---"
   ]
  },
  {
   "cell_type": "markdown",
   "metadata": {},
   "source": [
    "O <a title=\"Link do GSpread\" href=\"https://gspread.readthedocs.io/en/latest/api.html\" target=\"_blank\">**_GSpread_**</a> é um pacote que possibilita a edição e obtenção de dados das planilhas do  _Google SpreadSheet_.\n",
    "\n",
    "<br>\n",
    "\n",
    "{: .box-warning}\n",
    "**Aviso:** Esse _post_ tem a finalidade de mostrar os comandos básicos e me deixar com uma \"cola\" rápida para meu uso cotidiano. Todas os códigos são exemplificativos e podem/devem ser alterados, indicando o nome dos arquivos e diretórios corretamente.\n",
    "\n",
    "{: .box-note}\n",
    "**Nota:** É possível acessar esse _post_ em formato <a title=\"Link do Folium\" href=\"https://github.com/michelmetran/package_gspread/raw/master/docs/gspread.pdf\" target=\"_blank\">**_pdf_**</a>, diretamente por meio do <a title=\"Link do Repositório\" href=\"https://github.com/michelmetran/package_gspread\" target=\"_blank\">**repositório do GitHub**</a> ou ainda, de maneira interativa, usando o [![Binder](https://mybinder.org/badge_logo.svg)](https://mybinder.org/v2/gh/michelmetran/package_gspread/master)."
   ]
  },
  {
   "cell_type": "markdown",
   "metadata": {},
   "source": [
    "<br>\n",
    "\n",
    "# Importando Bibliotecas\n",
    "\n",
    "As bibliotecas básicas, ou _packages_, necessárias para criação do mapa são:\n",
    "- O **_Pandas_**, que tem a missão de trabalhar com dados, criar _subsets_, selecionar e filtros dados e;\n",
    "- O **_GSpread_**, que é a biblioteca que edita as tabelas."
   ]
  },
  {
   "cell_type": "code",
   "execution_count": 8,
   "metadata": {},
   "outputs": [],
   "source": [
    "import gspread\n",
    "import pandas as pd\n",
    "from oauth2client.service_account import ServiceAccountCredentials"
   ]
  },
  {
   "cell_type": "markdown",
   "metadata": {},
   "source": [
    "<br>\n",
    "\n",
    "# Autenticando no _Google Spreadsheet_\n",
    "\n",
    "Códigos necessários para \"entrar\" em modo de edição de uma planilha, a partir do _python_."
   ]
  },
  {
   "cell_type": "code",
   "execution_count": 9,
   "metadata": {},
   "outputs": [],
   "source": [
    "# Escopo Utilizado\n",
    "scope = ['https://spreadsheets.google.com/feeds']\n",
    "\n",
    "# Lê a Credencial para Autenticação\n",
    "credentials = ServiceAccountCredentials.from_json_keyfile_name('python-gspread-credentials.json', scope)\n",
    "\n",
    "# Autenticação, de fato\n",
    "gc = gspread.authorize(credentials)"
   ]
  },
  {
   "cell_type": "markdown",
   "metadata": {},
   "source": [
    "Escolhe a planilha e aba a ser editada"
   ]
  },
  {
   "cell_type": "code",
   "execution_count": 10,
   "metadata": {},
   "outputs": [],
   "source": [
    "# Abre a Planilha\n",
    "wks = gc.open_by_key('1bRwjoieInaRkmoyvlisMtDi-2kZ-5CvyKEQ2V_Xk1U8')    # Pelo ID da planilha\n",
    "#wks = gc.open('Teste Python')               # Pelo nome da planilha\n",
    "\n",
    "# Seleciona a primeira página da planilha\n",
    "worksheet = wks.get_worksheet(0)             # Pela ordem, começando com 0\n",
    "#worksheet = wks.worksheet(\"January\")        # Pelo nome da aba"
   ]
  },
  {
   "cell_type": "markdown",
   "metadata": {},
   "source": [
    "# Editando Dados"
   ]
  },
  {
   "cell_type": "markdown",
   "metadata": {},
   "source": [
    "## Célula Individual"
   ]
  },
  {
   "cell_type": "code",
   "execution_count": 11,
   "metadata": {},
   "outputs": [
    {
     "data": {
      "text/plain": [
       "{'spreadsheetId': '1bRwjoieInaRkmoyvlisMtDi-2kZ-5CvyKEQ2V_Xk1U8',\n",
       " 'updatedRange': \"'Página1'!A1\",\n",
       " 'updatedRows': 1,\n",
       " 'updatedColumns': 1,\n",
       " 'updatedCells': 1}"
      ]
     },
     "execution_count": 11,
     "metadata": {},
     "output_type": "execute_result"
    }
   ],
   "source": [
    "# Atualiza Célula\n",
    "worksheet.update_acell('A1', 'Teste, 1,2,3')"
   ]
  },
  {
   "cell_type": "markdown",
   "metadata": {},
   "source": [
    "## Conjunto de Células"
   ]
  },
  {
   "cell_type": "code",
   "execution_count": 12,
   "metadata": {},
   "outputs": [
    {
     "name": "stdout",
     "output_type": "stream",
     "text": [
      "2\n"
     ]
    }
   ],
   "source": [
    "print(2)"
   ]
  },
  {
   "cell_type": "markdown",
   "metadata": {},
   "source": [
    "## Intervalo"
   ]
  },
  {
   "cell_type": "code",
   "execution_count": null,
   "metadata": {},
   "outputs": [],
   "source": []
  },
  {
   "cell_type": "markdown",
   "metadata": {},
   "source": [
    "## Colando arquivo"
   ]
  },
  {
   "cell_type": "code",
   "execution_count": 13,
   "metadata": {},
   "outputs": [
    {
     "data": {
      "text/plain": [
       "name                           object\n",
       "situation                      object\n",
       "neighborhood                   object\n",
       "address                        object\n",
       "number                         object\n",
       "zip_code                       object\n",
       "city                           object\n",
       "state                          object\n",
       "cnpj                           object\n",
       "status                         object\n",
       "additional_address_details     object\n",
       "main_activity                  object\n",
       "latitude                      float64\n",
       "longitude                     float64\n",
       "dtype: object"
      ]
     },
     "execution_count": 13,
     "metadata": {},
     "output_type": "execute_result"
    }
   ],
   "source": [
    "# Lendo e filtrando dados\n",
    "empresas = pd.read_csv('data/empresas.xz')\n",
    "empresas = empresas[empresas['state'] == 'SP']\n",
    "empresas = empresas[empresas['city'] == 'SANTOS']\n",
    "\n",
    "empresas.dtypes"
   ]
  },
  {
   "cell_type": "markdown",
   "metadata": {},
   "source": [
    "<br>\n",
    "\n",
    "# Referências\n",
    "- Toda introdução está em https://www.linkedin.com/pulse/manipulando-planilhas-do-google-usando-python-renan-pessoa"
   ]
  },
  {
   "cell_type": "markdown",
   "metadata": {},
   "source": [
    "___\n",
    "<br>\n",
    "\n",
    "# Exportando o _Juptyter Notebook_ para outros formatos\n",
    "O arquivo _.ipynb_ pode ser exportado em formatos diversos. Abaixo carrego uma função que escrevi para facilitar o processo de exportação do arquivo em diferentes locais do PC para, posteriormente, atualizar os repositórios contidos no <a title=\"Link do GitHub\" href=\"https://github.com/michelmetran\" target=\"_blank\">_GitHub_</a>."
   ]
  },
  {
   "cell_type": "code",
   "execution_count": 14,
   "metadata": {},
   "outputs": [],
   "source": [
    "# %load '~/Documents/SourceCode/codes/files/export_jupyter.py'\n",
    "def export_jupyter(path, extensions=['html', 'markdown', 'latex', 'pdf', 'python'], today=True):\n",
    "    \"\"\"\n",
    "    Export .ipynb file to others formats\n",
    "    :return: File in other formats\n",
    "    \"\"\"\n",
    "    # Import Packages\n",
    "    import os\n",
    "    import datetime\n",
    "\n",
    "    # Data\n",
    "    timestamp = datetime.datetime.now()\n",
    "    srt_today = (str(timestamp.year) + '-' +\n",
    "                 str(f\"{timestamp.month:02d}\") + '-' +\n",
    "                 str(f\"{timestamp.day:02d}\"))\n",
    "\n",
    "    # Extensions\n",
    "    for extension in extensions:\n",
    "        if today==True:\n",
    "            os.system('jupyter nbconvert --to {} {} --output {}'.\n",
    "                      format(extension, get_jupyternotebook_name(),\n",
    "                             os.path.join(path, srt_today+'-'+get_jupyternotebook_name().split('.')[0])))\n",
    "            print('Arquivo {} exportado corretamente para o formato {} usando prefixo da data.'.\n",
    "                  format(get_jupyternotebook_name(), extension))\n",
    "\n",
    "        else:\n",
    "            os.system('jupyter nbconvert --to {} {} --output {}'.\n",
    "                      format(extension, get_jupyternotebook_name(),\n",
    "                             os.path.join(path, get_jupyternotebook_name().split('.')[0])))\n",
    "            print('Arquivo {} exportado corretamente para o formato {} sem usar prefixo da data.'.\n",
    "                  format(get_jupyternotebook_name(), extension))\n"
   ]
  },
  {
   "cell_type": "code",
   "execution_count": 16,
   "metadata": {},
   "outputs": [],
   "source": [
    "# %load '~/Documents/SourceCode/codes/files/get_jupyternotebook_name.py'\n",
    "def get_jupyternotebook_name():\n",
    "    \"\"\"\n",
    "    Returns the name of the current notebook as a string\n",
    "    From https://mail.scipy.org/pipermail/ipython-dev/2014-June/014096.html\n",
    "    :return: Returns the name of the current notebook as a string\n",
    "    \"\"\"\n",
    "    # Import Packages\n",
    "    from IPython.core.display import Javascript\n",
    "    from IPython.display import display\n",
    "\n",
    "    display(Javascript('IPython.notebook.kernel.execute(\"theNotebook = \" + \\\n",
    "    \"\\'\"+IPython.notebook.notebook_name+\"\\'\");'))\n",
    "\n",
    "    # Result\n",
    "    return theNotebook\n"
   ]
  },
  {
   "cell_type": "markdown",
   "metadata": {},
   "source": [
    "Com as funções para exportar o _Jupyter Notebook_ e para obter o nome do arquivo _.ipynb_ carregadas, basta exportar o arquivo, inicialmente para a pasta _docs_ dentro do projeto e também, visando atualizar os _posts_ do site, para a respectiva pasta."
   ]
  },
  {
   "cell_type": "code",
   "execution_count": 18,
   "metadata": {},
   "outputs": [
    {
     "data": {
      "application/javascript": [
       "IPython.notebook.kernel.execute(\"theNotebook = \" +     \"'\"+IPython.notebook.notebook_name+\"'\");"
      ],
      "text/plain": [
       "<IPython.core.display.Javascript object>"
      ]
     },
     "metadata": {},
     "output_type": "display_data"
    },
    {
     "data": {
      "application/javascript": [
       "IPython.notebook.kernel.execute(\"theNotebook = \" +     \"'\"+IPython.notebook.notebook_name+\"'\");"
      ],
      "text/plain": [
       "<IPython.core.display.Javascript object>"
      ]
     },
     "metadata": {},
     "output_type": "display_data"
    },
    {
     "data": {
      "application/javascript": [
       "IPython.notebook.kernel.execute(\"theNotebook = \" +     \"'\"+IPython.notebook.notebook_name+\"'\");"
      ],
      "text/plain": [
       "<IPython.core.display.Javascript object>"
      ]
     },
     "metadata": {},
     "output_type": "display_data"
    },
    {
     "name": "stdout",
     "output_type": "stream",
     "text": [
      "Arquivo gspread.ipynb exportado corretamente para o formato pdf sem usar prefixo da data.\n"
     ]
    },
    {
     "data": {
      "application/javascript": [
       "IPython.notebook.kernel.execute(\"theNotebook = \" +     \"'\"+IPython.notebook.notebook_name+\"'\");"
      ],
      "text/plain": [
       "<IPython.core.display.Javascript object>"
      ]
     },
     "metadata": {},
     "output_type": "display_data"
    },
    {
     "data": {
      "application/javascript": [
       "IPython.notebook.kernel.execute(\"theNotebook = \" +     \"'\"+IPython.notebook.notebook_name+\"'\");"
      ],
      "text/plain": [
       "<IPython.core.display.Javascript object>"
      ]
     },
     "metadata": {},
     "output_type": "display_data"
    },
    {
     "data": {
      "application/javascript": [
       "IPython.notebook.kernel.execute(\"theNotebook = \" +     \"'\"+IPython.notebook.notebook_name+\"'\");"
      ],
      "text/plain": [
       "<IPython.core.display.Javascript object>"
      ]
     },
     "metadata": {},
     "output_type": "display_data"
    },
    {
     "name": "stdout",
     "output_type": "stream",
     "text": [
      "Arquivo gspread.ipynb exportado corretamente para o formato markdown usando prefixo da data.\n"
     ]
    }
   ],
   "source": [
    "export_jupyter('docs',['pdf'], False)\n",
    "export_jupyter('/home/michel/Documents/SourceCode/michelmetran.github.io/_posts', ['markdown'], True)"
   ]
  },
  {
   "cell_type": "markdown",
   "metadata": {},
   "source": [
    "<br>\n",
    "\n",
    "# Atualizando Repositório do Projeto e do _site_\n",
    "Após as exportações dos arquivos nos formatos necessários, basta atualizar o repositório diretamente pelo  _Jupyter Notebook_.\n",
    "Abaixo é atualizado o repositório desse projeto específico, bem como a derivação desse projeto no <a title=\"Link do Folium\" href=\"https://michelmetran.github.io/\" target=\"_blank\">**_site_**</a>."
   ]
  },
  {
   "cell_type": "code",
   "execution_count": 19,
   "metadata": {},
   "outputs": [],
   "source": [
    "%run '~/Documents/SourceCode/codes/git/update_github.py'"
   ]
  },
  {
   "cell_type": "code",
   "execution_count": null,
   "metadata": {},
   "outputs": [
    {
     "name": "stdout",
     "output_type": "stream",
     "text": [
      "b'' b''\n",
      "b'[master 43e9936] Atualizando\\n 4 files changed, 497 insertions(+), 1173 deletions(-)\\n create mode 100644 data/empresas.xz\\n delete mode 100644 folium.ipynb\\n create mode 100644 gspread.ipynb\\n create mode 100644 python-gspread-credentials.json\\n' b''\n"
     ]
    }
   ],
   "source": [
    "git_full('/home/michel/Documents/SourceCode/package_gspread', '.', 'Atualizando')\n",
    "git_full('/home/michel/Documents/SourceCode/michelmetran.github.io', '.', 'Atualizando')"
   ]
  },
  {
   "cell_type": "code",
   "execution_count": null,
   "metadata": {},
   "outputs": [],
   "source": []
  }
 ],
 "metadata": {
  "kernelspec": {
   "display_name": "Python [conda env:pablocarreira-py36] *",
   "language": "python",
   "name": "conda-env-pablocarreira-py36-py"
  },
  "language_info": {
   "codemirror_mode": {
    "name": "ipython",
    "version": 3
   },
   "file_extension": ".py",
   "mimetype": "text/x-python",
   "name": "python",
   "nbconvert_exporter": "python",
   "pygments_lexer": "ipython3",
   "version": "3.6.7"
  },
  "toc": {
   "base_numbering": 1,
   "nav_menu": {},
   "number_sections": true,
   "sideBar": true,
   "skip_h1_title": false,
   "title_cell": "Table of Contents",
   "title_sidebar": "Contents",
   "toc_cell": false,
   "toc_position": {
    "height": "calc(100% - 180px)",
    "left": "10px",
    "top": "150px",
    "width": "220.6px"
   },
   "toc_section_display": true,
   "toc_window_display": true
  }
 },
 "nbformat": 4,
 "nbformat_minor": 2
}
